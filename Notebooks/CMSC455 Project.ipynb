{
 "cells": [
  {
   "cell_type": "code",
   "execution_count": 53,
   "metadata": {},
   "outputs": [],
   "source": [
    "# Import necessary libraries\n",
    "\n",
    "# Finds the global minimum of a multivariate function.\n",
    "from scipy.optimize import differential_evolution\n",
    "import numpy as np"
   ]
  },
  {
   "cell_type": "code",
   "execution_count": 54,
   "metadata": {},
   "outputs": [],
   "source": [
    "# Set precision for our problem\n",
    "np.set_printoptions(precision=100)\n",
    "\n",
    "# Define our equation that we are finding the global minima for.\n",
    "def global_minimum(coords):\n",
    "\n",
    "    x = coords[0]\n",
    "    y = coords[1]\n",
    "    \n",
    "    # Define our function based on given equation\n",
    "    z = np.exp(np.sin(50.0*x)) + np.sin(60.0*np.exp(y)) + np.sin(80.0*np.sin(x)) \n",
    "    + np.sin(np.sin(70.0*y)) - np.sin(10.0*(x+y)) + ((x*x+y*y)/4.0)\n",
    "    \n",
    "    return z"
   ]
  },
  {
   "cell_type": "code",
   "execution_count": 59,
   "metadata": {},
   "outputs": [
    {
     "name": "stdout",
     "output_type": "stream",
     "text": [
      "differential_evolution step 1: f(x)= -1.3388\n",
      "differential_evolution step 2: f(x)= -1.3388\n",
      "differential_evolution step 3: f(x)= -1.3388\n",
      "differential_evolution step 4: f(x)= -1.39803\n",
      "differential_evolution step 5: f(x)= -1.39803\n",
      "differential_evolution step 6: f(x)= -1.39803\n",
      "differential_evolution step 7: f(x)= -1.39803\n",
      "differential_evolution step 8: f(x)= -1.39803\n",
      "differential_evolution step 9: f(x)= -1.39803\n",
      "differential_evolution step 10: f(x)= -1.39803\n",
      "differential_evolution step 11: f(x)= -1.39803\n",
      "differential_evolution step 12: f(x)= -1.39803\n",
      "differential_evolution step 13: f(x)= -1.40897\n",
      "differential_evolution step 14: f(x)= -1.40897\n",
      "differential_evolution step 15: f(x)= -1.40897\n",
      "differential_evolution step 16: f(x)= -1.40897\n",
      "differential_evolution step 17: f(x)= -1.40897\n",
      "differential_evolution step 18: f(x)= -1.40897\n",
      "differential_evolution step 19: f(x)= -1.49528\n",
      "differential_evolution step 20: f(x)= -1.59553\n",
      "differential_evolution step 21: f(x)= -1.61208\n",
      "differential_evolution step 22: f(x)= -1.62557\n",
      "differential_evolution step 23: f(x)= -1.6267\n",
      "differential_evolution step 24: f(x)= -1.6267\n",
      "differential_evolution step 25: f(x)= -1.6267\n",
      "differential_evolution step 26: f(x)= -1.62674\n",
      "differential_evolution step 27: f(x)= -1.62876\n",
      "differential_evolution step 28: f(x)= -1.62876\n",
      "differential_evolution step 29: f(x)= -1.62885\n",
      "differential_evolution step 30: f(x)= -1.62919\n",
      "differential_evolution step 31: f(x)= -1.62929\n",
      "differential_evolution step 32: f(x)= -1.6293\n",
      "differential_evolution step 33: f(x)= -1.62931\n",
      "differential_evolution step 34: f(x)= -1.62932\n"
     ]
    }
   ],
   "source": [
    "# Use scipy.optimize differential_evolution\n",
    "\n",
    "# Set our range list for bounds argument\n",
    "ranges = [(-1, 1), (-1, 1)]\n",
    "\n",
    "# Display each step of differential_evolution\n",
    "diff_evol_results = differential_evolution(global_minimum, bounds=ranges, tol=.0001, disp=True)"
   ]
  },
  {
   "cell_type": "markdown",
   "metadata": {},
   "source": [
    "Set the precision for our problem using numpy's set_printoptions"
   ]
  },
  {
   "cell_type": "code",
   "execution_count": 61,
   "metadata": {},
   "outputs": [
    {
     "name": "stdout",
     "output_type": "stream",
     "text": [
      "x = 0.4689731654859271570146006524737458676099777221679687500000000000000000000000000000000000000000000000\n",
      "y = -0.0874137904901312878802599470873246900737285614013671875000000000000000000000000000000000000000000000\n",
      "z = -1.6293247939376032107361425005365163087844848632812500000000000000000000000000000000000000000000000000\n"
     ]
    }
   ],
   "source": [
    "# Get our result x and y values from differential_evolution and computed z value using global_minimum()\n",
    "x = diff_evol_results.x[0]\n",
    "y = diff_evol_results.x[1]\n",
    "z = diff_evol_results.fun\n",
    "\n",
    "print(\"x = %.100f\" % x)\n",
    "print(\"y = %.100f\" % y)\n",
    "print(\"z = %.100f\" % z)"
   ]
  },
  {
   "cell_type": "code",
   "execution_count": null,
   "metadata": {},
   "outputs": [],
   "source": []
  }
 ],
 "metadata": {
  "kernelspec": {
   "display_name": "Python 3",
   "language": "python",
   "name": "python3"
  },
  "language_info": {
   "codemirror_mode": {
    "name": "ipython",
    "version": 3
   },
   "file_extension": ".py",
   "mimetype": "text/x-python",
   "name": "python",
   "nbconvert_exporter": "python",
   "pygments_lexer": "ipython3",
   "version": "3.8.3"
  }
 },
 "nbformat": 4,
 "nbformat_minor": 4
}
